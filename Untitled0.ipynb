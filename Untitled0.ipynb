{
  "nbformat": 4,
  "nbformat_minor": 0,
  "metadata": {
    "colab": {
      "name": "Untitled0.ipynb",
      "provenance": [],
      "collapsed_sections": [],
      "authorship_tag": "ABX9TyNGcBiR3fttBmxcNWYqArO+",
      "include_colab_link": true
    },
    "kernelspec": {
      "name": "python3",
      "display_name": "Python 3"
    }
  },
  "cells": [
    {
      "cell_type": "markdown",
      "metadata": {
        "id": "view-in-github",
        "colab_type": "text"
      },
      "source": [
        "<a href=\"https://colab.research.google.com/github/allenborges/algoritmoKMEANS/blob/master/Untitled0.ipynb\" target=\"_parent\"><img src=\"https://colab.research.google.com/assets/colab-badge.svg\" alt=\"Open In Colab\"/></a>"
      ]
    },
    {
      "cell_type": "code",
      "metadata": {
        "id": "WKIh4_J6wdEV",
        "colab_type": "code",
        "colab": {
          "base_uri": "https://localhost:8080/",
          "height": 521
        },
        "outputId": "4e3dc48e-dcde-4768-a6ec-5d7d78bf4c53"
      },
      "source": [
        "import numpy as np\n",
        "from matplotlib import pyplot as plt\n",
        "from sklearn.datasets import make_blobs\n",
        "from sklearn.cluster import KMeans\n",
        "dataset= np.array([[1, 4], [2, 2], [2, 5], [3, 3],[3, 5], [4, 7], [5, 6], [6, 4], [6, 7], [7, 6], [7, 9], [8, 9], [8, 9], [9, 4], [9, 8]]) # Grupo de Informaçãoe para agrupamento em cluters.\n",
        "plt.scatter(dataset[:,0], dataset[:,1])\n",
        "plt.xlim(0, 10)\n",
        "plt.ylim(0, 10)\n",
        "plt.grid()\n",
        "kmeans=KMeans(n_clusters=3, init='k-means++',max_iter=300, n_init=10) #inicialição do Kameans e número máximo de iterações n init parametro utilizado pela biblioteca para inicialização\n",
        "pred_y = kmeans.fit_predict(dataset) #execução do Kameans\n",
        "plt.scatter(dataset[:,0], dataset[:,1]) #centros do centroides que definimos\n",
        "plt.xlim(0, 10)\n",
        "plt.ylim(0, 10)\n",
        "plt.grid()\n",
        "plt.scatter(kmeans.cluster_centers_[:, 0], kmeans.cluster_centers_[:, 1], s=70, c='red') #desenha o gráfico e mostra em vermelho onde ficarão os centroídes\n",
        "plt.show()\n",
        "plt.scatter(dataset[:,0], dataset[:,1], c=pred_y)#colore cada ponto com a cor do seu centroíde\n",
        "plt.xlim(0, 10)\n",
        "plt.ylim(0, 10)\n",
        "plt.grid()\n",
        "\n",
        "plt.scatter(kmeans.cluster_centers_[:, 0], kmeans.cluster_centers_[:, 1], s=70, c='red')\n",
        "plt.show()"
      ],
      "execution_count": 20,
      "outputs": [
        {
          "output_type": "display_data",
          "data": {
            "image/png": "[encoded data removed]",
            "text/plain": [
              "<Figure size 432x288 with 1 Axes>"
            ]
          },
          "metadata": {
            "tags": [],
            "needs_background": "light"
          }
        },
        {
          "output_type": "display_data",
          "data": {
            "image/png": "[encoded data removed]",
            "text/plain": [
              "<Figure size 432x288 with 1 Axes>"
            ]
          },
          "metadata": {
            "tags": [],
            "needs_background": "light"
          }
        }
      ]
    }
  ]
}